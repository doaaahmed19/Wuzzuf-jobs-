{
 "cells": [
  {
   "cell_type": "code",
   "execution_count": 41,
   "id": "9ef53b6e",
   "metadata": {},
   "outputs": [
    {
     "data": {
      "text/html": [
       "<div>\n",
       "<style scoped>\n",
       "    .dataframe tbody tr th:only-of-type {\n",
       "        vertical-align: middle;\n",
       "    }\n",
       "\n",
       "    .dataframe tbody tr th {\n",
       "        vertical-align: top;\n",
       "    }\n",
       "\n",
       "    .dataframe thead th {\n",
       "        text-align: right;\n",
       "    }\n",
       "</style>\n",
       "<table border=\"1\" class=\"dataframe\">\n",
       "  <thead>\n",
       "    <tr style=\"text-align: right;\">\n",
       "      <th></th>\n",
       "      <th>Title</th>\n",
       "      <th>Company</th>\n",
       "      <th>Location</th>\n",
       "      <th>Type</th>\n",
       "      <th>Level</th>\n",
       "      <th>YearsExp</th>\n",
       "      <th>Country</th>\n",
       "      <th>Skills</th>\n",
       "    </tr>\n",
       "  </thead>\n",
       "  <tbody>\n",
       "    <tr>\n",
       "      <th>0</th>\n",
       "      <td>Customer Service Agent</td>\n",
       "      <td>Johnson Controls</td>\n",
       "      <td>New Cairo</td>\n",
       "      <td>Full Time</td>\n",
       "      <td>Entry Level</td>\n",
       "      <td>1-3 Yrs of Exp</td>\n",
       "      <td>Cairo</td>\n",
       "      <td>Call Center, Customer Support, Customer Care, ...</td>\n",
       "    </tr>\n",
       "    <tr>\n",
       "      <th>1</th>\n",
       "      <td>Marketing Manager</td>\n",
       "      <td>SYE English Community</td>\n",
       "      <td>Dokki</td>\n",
       "      <td>Full Time</td>\n",
       "      <td>Manager</td>\n",
       "      <td>5-10 Yrs of Exp</td>\n",
       "      <td>Giza</td>\n",
       "      <td>Market Research, Social Media, Online Marketin...</td>\n",
       "    </tr>\n",
       "    <tr>\n",
       "      <th>2</th>\n",
       "      <td>Medical Representative Heliopolis</td>\n",
       "      <td>So Value Pharma</td>\n",
       "      <td>Cairo</td>\n",
       "      <td>Full Time</td>\n",
       "      <td>Entry Level</td>\n",
       "      <td>0-5 Yrs of Exp</td>\n",
       "      <td>Egypt</td>\n",
       "      <td>Cardio-metabolic, Sales Skills, Sales Target, ...</td>\n",
       "    </tr>\n",
       "    <tr>\n",
       "      <th>3</th>\n",
       "      <td>Order Handling Specialist</td>\n",
       "      <td>Johnson Controls</td>\n",
       "      <td>New Cairo</td>\n",
       "      <td>Full Time</td>\n",
       "      <td>Experienced</td>\n",
       "      <td>3-5 Yrs of Exp</td>\n",
       "      <td>Cairo</td>\n",
       "      <td>Supply Officer, Supply Planner, Procurement an...</td>\n",
       "    </tr>\n",
       "    <tr>\n",
       "      <th>4</th>\n",
       "      <td>Storekeeper</td>\n",
       "      <td>Confidential</td>\n",
       "      <td>Cairo</td>\n",
       "      <td>Full Time</td>\n",
       "      <td>Experienced</td>\n",
       "      <td>3+ Yrs of Exp</td>\n",
       "      <td>Egypt</td>\n",
       "      <td>Warehousing, Storekeeping, Logistics/Supply Chain</td>\n",
       "    </tr>\n",
       "  </tbody>\n",
       "</table>\n",
       "</div>"
      ],
      "text/plain": [
       "                               Title                Company    Location  \\\n",
       "0             Customer Service Agent       Johnson Controls   New Cairo   \n",
       "1                  Marketing Manager  SYE English Community       Dokki   \n",
       "2  Medical Representative Heliopolis        So Value Pharma       Cairo   \n",
       "3          Order Handling Specialist       Johnson Controls   New Cairo   \n",
       "4                        Storekeeper           Confidential       Cairo   \n",
       "\n",
       "        Type        Level         YearsExp Country  \\\n",
       "0  Full Time  Entry Level   1-3 Yrs of Exp   Cairo   \n",
       "1  Full Time      Manager  5-10 Yrs of Exp    Giza   \n",
       "2  Full Time  Entry Level   0-5 Yrs of Exp   Egypt   \n",
       "3  Full Time  Experienced   3-5 Yrs of Exp   Cairo   \n",
       "4  Full Time  Experienced    3+ Yrs of Exp   Egypt   \n",
       "\n",
       "                                              Skills  \n",
       "0  Call Center, Customer Support, Customer Care, ...  \n",
       "1  Market Research, Social Media, Online Marketin...  \n",
       "2  Cardio-metabolic, Sales Skills, Sales Target, ...  \n",
       "3  Supply Officer, Supply Planner, Procurement an...  \n",
       "4  Warehousing, Storekeeping, Logistics/Supply Chain  "
      ]
     },
     "execution_count": 41,
     "metadata": {},
     "output_type": "execute_result"
    }
   ],
   "source": [
    "#1.\tRead the dataset, convert it to DataFrame and display some from it.\n",
    "\n",
    "import pandas as pd\n",
    "\n",
    "import matplotlib as plt\n",
    "\n",
    "dataset=pd.read_csv(\"Wuzzuf_Jobs.csv\")\n",
    "df = pd.DataFrame(dataset)\n",
    "df.head()"
   ]
  },
  {
   "cell_type": "code",
   "execution_count": 4,
   "id": "b497111e",
   "metadata": {},
   "outputs": [
    {
     "data": {
      "text/plain": [
       "(4380, 8)"
      ]
     },
     "execution_count": 4,
     "metadata": {},
     "output_type": "execute_result"
    }
   ],
   "source": [
    "df.shape"
   ]
  },
  {
   "cell_type": "code",
   "execution_count": 5,
   "id": "210378b8",
   "metadata": {},
   "outputs": [
    {
     "data": {
      "text/html": [
       "<div>\n",
       "<style scoped>\n",
       "    .dataframe tbody tr th:only-of-type {\n",
       "        vertical-align: middle;\n",
       "    }\n",
       "\n",
       "    .dataframe tbody tr th {\n",
       "        vertical-align: top;\n",
       "    }\n",
       "\n",
       "    .dataframe thead th {\n",
       "        text-align: right;\n",
       "    }\n",
       "</style>\n",
       "<table border=\"1\" class=\"dataframe\">\n",
       "  <thead>\n",
       "    <tr style=\"text-align: right;\">\n",
       "      <th></th>\n",
       "      <th>Title</th>\n",
       "      <th>Company</th>\n",
       "      <th>Location</th>\n",
       "      <th>Type</th>\n",
       "      <th>Level</th>\n",
       "      <th>YearsExp</th>\n",
       "      <th>Country</th>\n",
       "      <th>Skills</th>\n",
       "    </tr>\n",
       "  </thead>\n",
       "  <tbody>\n",
       "    <tr>\n",
       "      <th>count</th>\n",
       "      <td>4380</td>\n",
       "      <td>4380</td>\n",
       "      <td>4380</td>\n",
       "      <td>4380</td>\n",
       "      <td>4380</td>\n",
       "      <td>4380</td>\n",
       "      <td>4380</td>\n",
       "      <td>4380</td>\n",
       "    </tr>\n",
       "    <tr>\n",
       "      <th>unique</th>\n",
       "      <td>2965</td>\n",
       "      <td>1534</td>\n",
       "      <td>162</td>\n",
       "      <td>6</td>\n",
       "      <td>9</td>\n",
       "      <td>101</td>\n",
       "      <td>42</td>\n",
       "      <td>4227</td>\n",
       "    </tr>\n",
       "    <tr>\n",
       "      <th>top</th>\n",
       "      <td>Accountant</td>\n",
       "      <td>Confidential</td>\n",
       "      <td>Cairo</td>\n",
       "      <td>Full Time</td>\n",
       "      <td>Experienced</td>\n",
       "      <td>1-3 Yrs of Exp</td>\n",
       "      <td>Cairo</td>\n",
       "      <td>Corporate Sales, Real Estate, Advertising, Mar...</td>\n",
       "    </tr>\n",
       "    <tr>\n",
       "      <th>freq</th>\n",
       "      <td>57</td>\n",
       "      <td>590</td>\n",
       "      <td>563</td>\n",
       "      <td>4168</td>\n",
       "      <td>2198</td>\n",
       "      <td>414</td>\n",
       "      <td>2230</td>\n",
       "      <td>12</td>\n",
       "    </tr>\n",
       "  </tbody>\n",
       "</table>\n",
       "</div>"
      ],
      "text/plain": [
       "             Title       Company Location       Type        Level  \\\n",
       "count         4380          4380     4380       4380         4380   \n",
       "unique        2965          1534      162          6            9   \n",
       "top     Accountant  Confidential    Cairo  Full Time  Experienced   \n",
       "freq            57           590      563       4168         2198   \n",
       "\n",
       "              YearsExp Country  \\\n",
       "count             4380    4380   \n",
       "unique             101      42   \n",
       "top     1-3 Yrs of Exp   Cairo   \n",
       "freq               414    2230   \n",
       "\n",
       "                                                   Skills  \n",
       "count                                                4380  \n",
       "unique                                               4227  \n",
       "top     Corporate Sales, Real Estate, Advertising, Mar...  \n",
       "freq                                                   12  "
      ]
     },
     "execution_count": 5,
     "metadata": {},
     "output_type": "execute_result"
    }
   ],
   "source": [
    "#2.\tDisplay structure and summary of the data.\n",
    "df.describe()"
   ]
  },
  {
   "cell_type": "code",
   "execution_count": 6,
   "id": "7cc1df12",
   "metadata": {},
   "outputs": [
    {
     "data": {
      "text/plain": [
       "3"
      ]
     },
     "execution_count": 6,
     "metadata": {},
     "output_type": "execute_result"
    }
   ],
   "source": [
    "df.duplicated().sum()"
   ]
  },
  {
   "cell_type": "code",
   "execution_count": 7,
   "id": "773b66d5",
   "metadata": {},
   "outputs": [
    {
     "data": {
      "text/html": [
       "<div>\n",
       "<style scoped>\n",
       "    .dataframe tbody tr th:only-of-type {\n",
       "        vertical-align: middle;\n",
       "    }\n",
       "\n",
       "    .dataframe tbody tr th {\n",
       "        vertical-align: top;\n",
       "    }\n",
       "\n",
       "    .dataframe thead th {\n",
       "        text-align: right;\n",
       "    }\n",
       "</style>\n",
       "<table border=\"1\" class=\"dataframe\">\n",
       "  <thead>\n",
       "    <tr style=\"text-align: right;\">\n",
       "      <th></th>\n",
       "      <th>Title</th>\n",
       "      <th>Company</th>\n",
       "      <th>Location</th>\n",
       "      <th>Type</th>\n",
       "      <th>Level</th>\n",
       "      <th>YearsExp</th>\n",
       "      <th>Country</th>\n",
       "      <th>Skills</th>\n",
       "    </tr>\n",
       "  </thead>\n",
       "  <tbody>\n",
       "    <tr>\n",
       "      <th>180</th>\n",
       "      <td>HR Intern</td>\n",
       "      <td>Al Futtaim</td>\n",
       "      <td>New Cairo</td>\n",
       "      <td>Internship</td>\n",
       "      <td>Entry Level</td>\n",
       "      <td>null Yrs of Exp</td>\n",
       "      <td>Cairo</td>\n",
       "      <td>HR, Recruitment, Human Resources</td>\n",
       "    </tr>\n",
       "    <tr>\n",
       "      <th>220</th>\n",
       "      <td>Senior Back End Developer</td>\n",
       "      <td>Youxel</td>\n",
       "      <td>Maadi</td>\n",
       "      <td>Full Time</td>\n",
       "      <td>Experienced</td>\n",
       "      <td>2-4 Yrs of Exp</td>\n",
       "      <td>Cairo</td>\n",
       "      <td>Back End, Backend Development, Web Development...</td>\n",
       "    </tr>\n",
       "    <tr>\n",
       "      <th>440</th>\n",
       "      <td>Social Media Specialist</td>\n",
       "      <td>The Modern Vision Of Advertising</td>\n",
       "      <td>New Cairo</td>\n",
       "      <td>Full Time</td>\n",
       "      <td>Experienced</td>\n",
       "      <td>2+ Yrs of Exp</td>\n",
       "      <td>Cairo</td>\n",
       "      <td>E-marketing, Facebook, SEO, Communication Skil...</td>\n",
       "    </tr>\n",
       "  </tbody>\n",
       "</table>\n",
       "</div>"
      ],
      "text/plain": [
       "                         Title                           Company    Location  \\\n",
       "180                  HR Intern                        Al Futtaim   New Cairo   \n",
       "220  Senior Back End Developer                            Youxel       Maadi   \n",
       "440    Social Media Specialist  The Modern Vision Of Advertising   New Cairo   \n",
       "\n",
       "           Type        Level         YearsExp Country  \\\n",
       "180  Internship  Entry Level  null Yrs of Exp   Cairo   \n",
       "220   Full Time  Experienced   2-4 Yrs of Exp   Cairo   \n",
       "440   Full Time  Experienced    2+ Yrs of Exp   Cairo   \n",
       "\n",
       "                                                Skills  \n",
       "180                   HR, Recruitment, Human Resources  \n",
       "220  Back End, Backend Development, Web Development...  \n",
       "440  E-marketing, Facebook, SEO, Communication Skil...  "
      ]
     },
     "execution_count": 7,
     "metadata": {},
     "output_type": "execute_result"
    }
   ],
   "source": [
    "df.loc[df.duplicated(),:]"
   ]
  },
  {
   "cell_type": "code",
   "execution_count": 8,
   "id": "8578fc50",
   "metadata": {},
   "outputs": [
    {
     "data": {
      "text/html": [
       "<div>\n",
       "<style scoped>\n",
       "    .dataframe tbody tr th:only-of-type {\n",
       "        vertical-align: middle;\n",
       "    }\n",
       "\n",
       "    .dataframe tbody tr th {\n",
       "        vertical-align: top;\n",
       "    }\n",
       "\n",
       "    .dataframe thead th {\n",
       "        text-align: right;\n",
       "    }\n",
       "</style>\n",
       "<table border=\"1\" class=\"dataframe\">\n",
       "  <thead>\n",
       "    <tr style=\"text-align: right;\">\n",
       "      <th></th>\n",
       "      <th>Title</th>\n",
       "      <th>Company</th>\n",
       "      <th>Location</th>\n",
       "      <th>Type</th>\n",
       "      <th>Level</th>\n",
       "      <th>YearsExp</th>\n",
       "      <th>Country</th>\n",
       "      <th>Skills</th>\n",
       "    </tr>\n",
       "  </thead>\n",
       "  <tbody>\n",
       "    <tr>\n",
       "      <th>0</th>\n",
       "      <td>Customer Service Agent</td>\n",
       "      <td>Johnson Controls</td>\n",
       "      <td>New Cairo</td>\n",
       "      <td>Full Time</td>\n",
       "      <td>Entry Level</td>\n",
       "      <td>1-3 Yrs of Exp</td>\n",
       "      <td>Cairo</td>\n",
       "      <td>Call Center, Customer Support, Customer Care, ...</td>\n",
       "    </tr>\n",
       "    <tr>\n",
       "      <th>1</th>\n",
       "      <td>Marketing Manager</td>\n",
       "      <td>SYE English Community</td>\n",
       "      <td>Dokki</td>\n",
       "      <td>Full Time</td>\n",
       "      <td>Manager</td>\n",
       "      <td>5-10 Yrs of Exp</td>\n",
       "      <td>Giza</td>\n",
       "      <td>Market Research, Social Media, Online Marketin...</td>\n",
       "    </tr>\n",
       "    <tr>\n",
       "      <th>2</th>\n",
       "      <td>Medical Representative Heliopolis</td>\n",
       "      <td>So Value Pharma</td>\n",
       "      <td>Cairo</td>\n",
       "      <td>Full Time</td>\n",
       "      <td>Entry Level</td>\n",
       "      <td>0-5 Yrs of Exp</td>\n",
       "      <td>Egypt</td>\n",
       "      <td>Cardio-metabolic, Sales Skills, Sales Target, ...</td>\n",
       "    </tr>\n",
       "    <tr>\n",
       "      <th>3</th>\n",
       "      <td>Order Handling Specialist</td>\n",
       "      <td>Johnson Controls</td>\n",
       "      <td>New Cairo</td>\n",
       "      <td>Full Time</td>\n",
       "      <td>Experienced</td>\n",
       "      <td>3-5 Yrs of Exp</td>\n",
       "      <td>Cairo</td>\n",
       "      <td>Supply Officer, Supply Planner, Procurement an...</td>\n",
       "    </tr>\n",
       "    <tr>\n",
       "      <th>4</th>\n",
       "      <td>Storekeeper</td>\n",
       "      <td>Confidential</td>\n",
       "      <td>Cairo</td>\n",
       "      <td>Full Time</td>\n",
       "      <td>Experienced</td>\n",
       "      <td>3+ Yrs of Exp</td>\n",
       "      <td>Egypt</td>\n",
       "      <td>Warehousing, Storekeeping, Logistics/Supply Chain</td>\n",
       "    </tr>\n",
       "    <tr>\n",
       "      <th>...</th>\n",
       "      <td>...</td>\n",
       "      <td>...</td>\n",
       "      <td>...</td>\n",
       "      <td>...</td>\n",
       "      <td>...</td>\n",
       "      <td>...</td>\n",
       "      <td>...</td>\n",
       "      <td>...</td>\n",
       "    </tr>\n",
       "    <tr>\n",
       "      <th>4375</th>\n",
       "      <td>Corporate Sales Executive - Hotel Supplies</td>\n",
       "      <td>Term</td>\n",
       "      <td>New Cairo</td>\n",
       "      <td>Full Time</td>\n",
       "      <td>Experienced</td>\n",
       "      <td>3-7 Yrs of Exp</td>\n",
       "      <td>Cairo</td>\n",
       "      <td>Corporate Sales, Sales Target, English, Comput...</td>\n",
       "    </tr>\n",
       "    <tr>\n",
       "      <th>4376</th>\n",
       "      <td>Logistics Operations &amp; Warehouse Supervisor</td>\n",
       "      <td>DHL Express Egypt</td>\n",
       "      <td>Abu Rawash</td>\n",
       "      <td>Full Time</td>\n",
       "      <td>Manager</td>\n",
       "      <td>6+ Yrs of Exp</td>\n",
       "      <td>Giza</td>\n",
       "      <td>Warehousing, Supply Chain Management, Customs ...</td>\n",
       "    </tr>\n",
       "    <tr>\n",
       "      <th>4377</th>\n",
       "      <td>English Teacher ( Second Language ) / Lower...</td>\n",
       "      <td>Modern American School of Egypt 2000</td>\n",
       "      <td>New Cairo</td>\n",
       "      <td>Full Time</td>\n",
       "      <td>Experienced</td>\n",
       "      <td>3-7 Yrs of Exp</td>\n",
       "      <td>Cairo</td>\n",
       "      <td>English Teacher, Lower Primar, Education, Teac...</td>\n",
       "    </tr>\n",
       "    <tr>\n",
       "      <th>4378</th>\n",
       "      <td>Project Manager - Cairo</td>\n",
       "      <td>KnowledgeNet</td>\n",
       "      <td>Nasr City</td>\n",
       "      <td>Full Time</td>\n",
       "      <td>Manager</td>\n",
       "      <td>5+ Yrs of Exp</td>\n",
       "      <td>Cairo</td>\n",
       "      <td>Implementation, Project Management, Informatio...</td>\n",
       "    </tr>\n",
       "    <tr>\n",
       "      <th>4379</th>\n",
       "      <td>English Teacher / Primary Stages</td>\n",
       "      <td>Modern American School of Egypt 2000</td>\n",
       "      <td>New Cairo</td>\n",
       "      <td>Full Time</td>\n",
       "      <td>Experienced</td>\n",
       "      <td>3-7 Yrs of Exp</td>\n",
       "      <td>Cairo</td>\n",
       "      <td>English Teacher, Upper Primary, Education, Tea...</td>\n",
       "    </tr>\n",
       "  </tbody>\n",
       "</table>\n",
       "<p>4377 rows × 8 columns</p>\n",
       "</div>"
      ],
      "text/plain": [
       "                                               Title  \\\n",
       "0                             Customer Service Agent   \n",
       "1                                  Marketing Manager   \n",
       "2                  Medical Representative Heliopolis   \n",
       "3                          Order Handling Specialist   \n",
       "4                                        Storekeeper   \n",
       "...                                              ...   \n",
       "4375      Corporate Sales Executive - Hotel Supplies   \n",
       "4376     Logistics Operations & Warehouse Supervisor   \n",
       "4377  English Teacher ( Second Language ) / Lower...   \n",
       "4378                         Project Manager - Cairo   \n",
       "4379                English Teacher / Primary Stages   \n",
       "\n",
       "                                   Company     Location       Type  \\\n",
       "0                         Johnson Controls    New Cairo  Full Time   \n",
       "1                    SYE English Community        Dokki  Full Time   \n",
       "2                          So Value Pharma        Cairo  Full Time   \n",
       "3                         Johnson Controls    New Cairo  Full Time   \n",
       "4                             Confidential        Cairo  Full Time   \n",
       "...                                    ...          ...        ...   \n",
       "4375                                  Term    New Cairo  Full Time   \n",
       "4376                     DHL Express Egypt   Abu Rawash  Full Time   \n",
       "4377  Modern American School of Egypt 2000    New Cairo  Full Time   \n",
       "4378                          KnowledgeNet    Nasr City  Full Time   \n",
       "4379  Modern American School of Egypt 2000    New Cairo  Full Time   \n",
       "\n",
       "            Level         YearsExp Country  \\\n",
       "0     Entry Level   1-3 Yrs of Exp   Cairo   \n",
       "1         Manager  5-10 Yrs of Exp    Giza   \n",
       "2     Entry Level   0-5 Yrs of Exp   Egypt   \n",
       "3     Experienced   3-5 Yrs of Exp   Cairo   \n",
       "4     Experienced    3+ Yrs of Exp   Egypt   \n",
       "...           ...              ...     ...   \n",
       "4375  Experienced   3-7 Yrs of Exp   Cairo   \n",
       "4376      Manager    6+ Yrs of Exp    Giza   \n",
       "4377  Experienced   3-7 Yrs of Exp   Cairo   \n",
       "4378      Manager    5+ Yrs of Exp   Cairo   \n",
       "4379  Experienced   3-7 Yrs of Exp   Cairo   \n",
       "\n",
       "                                                 Skills  \n",
       "0     Call Center, Customer Support, Customer Care, ...  \n",
       "1     Market Research, Social Media, Online Marketin...  \n",
       "2     Cardio-metabolic, Sales Skills, Sales Target, ...  \n",
       "3     Supply Officer, Supply Planner, Procurement an...  \n",
       "4     Warehousing, Storekeeping, Logistics/Supply Chain  \n",
       "...                                                 ...  \n",
       "4375  Corporate Sales, Sales Target, English, Comput...  \n",
       "4376  Warehousing, Supply Chain Management, Customs ...  \n",
       "4377  English Teacher, Lower Primar, Education, Teac...  \n",
       "4378  Implementation, Project Management, Informatio...  \n",
       "4379  English Teacher, Upper Primary, Education, Tea...  \n",
       "\n",
       "[4377 rows x 8 columns]"
      ]
     },
     "execution_count": 8,
     "metadata": {},
     "output_type": "execute_result"
    }
   ],
   "source": [
    "#3.\tClean the data (null, duplications)\n",
    "df.dropna()\n",
    "df.drop_duplicates()"
   ]
  },
  {
   "cell_type": "code",
   "execution_count": 9,
   "id": "04065551",
   "metadata": {},
   "outputs": [
    {
     "data": {
      "text/plain": [
       "(4380, 8)"
      ]
     },
     "execution_count": 9,
     "metadata": {},
     "output_type": "execute_result"
    }
   ],
   "source": [
    "df.shape"
   ]
  },
  {
   "cell_type": "code",
   "execution_count": 26,
   "id": "d9eceed3",
   "metadata": {},
   "outputs": [
    {
     "data": {
      "text/plain": [
       "Confidential                      590\n",
       "Mishkat Nour                       39\n",
       "Expand Cart                        35\n",
       "EGIC                               34\n",
       "Aqarmap.com                        25\n",
       "                                 ... \n",
       "CCR Developments                    1\n",
       "salam center                        1\n",
       "Hands of Hope Physical Therapy      1\n",
       "Spinneys Egypt                      1\n",
       "Heroleads                           1\n",
       "Name: Company, Length: 1534, dtype: int64"
      ]
     },
     "execution_count": 26,
     "metadata": {},
     "output_type": "execute_result"
    }
   ],
   "source": [
    "#4.\tCount the jobs for each company and display that in order (What are the most demanding companies\n",
    "#for jobs?)\n",
    "df['Company'].value_counts(sort=\"True\")"
   ]
  },
  {
   "cell_type": "code",
   "execution_count": 15,
   "id": "e6806212",
   "metadata": {},
   "outputs": [
    {
     "data": {
      "image/png": "[encoded data removed]",
      "text/plain": [
       "<Figure size 432x288 with 1 Axes>"
      ]
     },
     "metadata": {},
     "output_type": "display_data"
    }
   ],
   "source": [
    "#5.\tShow step 4 in a pie chart\n",
    "x=df['Company'].value_counts()\n",
    "import matplotlib.pyplot as plt\n",
    "plt.pie(x)\n",
    "plt.show() "
   ]
  },
  {
   "cell_type": "code",
   "execution_count": 24,
   "id": "e55146bb",
   "metadata": {},
   "outputs": [
    {
     "data": {
      "text/plain": [
       "Accountant                                   57\n",
       "Sales Representative                         47\n",
       "Graphic Designer                             43\n",
       "Digital Marketing Specialist                 26\n",
       "Social Media Specialist                      25\n",
       "                                             ..\n",
       "Sales Team Leader (Real Estate Brokerage)     1\n",
       "Senior Full Stack Java Developer (AWS)        1\n",
       "Senior Product Development Engineer           1\n",
       "Activation Supervisor                         1\n",
       "English Teacher / Primary Stages              1\n",
       "Name: Title, Length: 2965, dtype: int64"
      ]
     },
     "execution_count": 24,
     "metadata": {},
     "output_type": "execute_result"
    }
   ],
   "source": [
    "#6.\tFind out what are the most popular job titles.\n",
    "x=df['Title'].value_counts(sort=True)\n",
    "x"
   ]
  },
  {
   "cell_type": "code",
   "execution_count": 29,
   "id": "1a482247",
   "metadata": {},
   "outputs": [
    {
     "data": {
      "text/plain": [
       "<AxesSubplot:>"
      ]
     },
     "execution_count": 29,
     "metadata": {},
     "output_type": "execute_result"
    },
    {
     "data": {
      "image/png": "[encoded data removed]",
      "text/plain": [
       "<Figure size 432x288 with 1 Axes>"
      ]
     },
     "metadata": {
      "needs_background": "light"
     },
     "output_type": "display_data"
    }
   ],
   "source": [
    "#7.\tShow step 6 in bar chart\n",
    "x[:15].plot(kind=\"barh\")"
   ]
  },
  {
   "cell_type": "code",
   "execution_count": 31,
   "id": "a09b9c97",
   "metadata": {},
   "outputs": [
    {
     "data": {
      "text/plain": [
       " Cairo             563\n",
       " Maadi             525\n",
       " New Cairo         522\n",
       " Nasr City         424\n",
       " 6th of October    282\n",
       "                  ... \n",
       " Abu Almatamir       1\n",
       " Kuwait City         1\n",
       " Sharm Alsheikh      1\n",
       " Sayeda Zeinab       1\n",
       " Manama              1\n",
       "Name: Location, Length: 162, dtype: int64"
      ]
     },
     "execution_count": 31,
     "metadata": {},
     "output_type": "execute_result"
    }
   ],
   "source": [
    "#8.\tFind out the most popular areas?\n",
    "y=df['Location'].value_counts(sort=\"True\")\n",
    "y"
   ]
  },
  {
   "cell_type": "code",
   "execution_count": 34,
   "id": "e36c9732",
   "metadata": {},
   "outputs": [
    {
     "data": {
      "text/plain": [
       "<AxesSubplot:>"
      ]
     },
     "execution_count": 34,
     "metadata": {},
     "output_type": "execute_result"
    },
    {
     "data": {
      "image/png": "[encoded data removed]",
      "text/plain": [
       "<Figure size 432x288 with 1 Axes>"
      ]
     },
     "metadata": {
      "needs_background": "light"
     },
     "output_type": "display_data"
    }
   ],
   "source": [
    "#9.\tShow step 8 in bar chart\n",
    "y[:15].plot(kind=\"barh\")"
   ]
  },
  {
   "cell_type": "code",
   "execution_count": null,
   "id": "64bff750",
   "metadata": {},
   "outputs": [],
   "source": []
  }
 ],
 "metadata": {
  "kernelspec": {
   "display_name": "Python 3 (ipykernel)",
   "language": "python",
   "name": "python3"
  },
  "language_info": {
   "codemirror_mode": {
    "name": "ipython",
    "version": 3
   },
   "file_extension": ".py",
   "mimetype": "text/x-python",
   "name": "python",
   "nbconvert_exporter": "python",
   "pygments_lexer": "ipython3",
   "version": "3.10.1"
  }
 },
 "nbformat": 4,
 "nbformat_minor": 5
}
